{
 "cells": [
  {
   "cell_type": "markdown",
   "metadata": {},
   "source": [
    "# BOT para votação no participante P.A. para vencer o BBB22 usando Python através do Jupyter\n",
    "\n",
    "### Desafio:\n",
    "\n",
    "1- Abrir o navegador padrão (Firefox)\n",
    "\n",
    "2- Entrar no link de votação https://gshow.globo.com/realities/bbb/bbb22/votacao/vote-na-final-do-bbb-22-quem-voce-quer-que-venca-15b3ec29-4d06-4db3-8bd7-d4d4bd050057.ghtml\n",
    "\n",
    "3- Clicar no participante Paulo André\n",
    "\n",
    "4- Clicar no capcha\n",
    "\n",
    "5- Clicar em \"Votar novamente\"\n",
    "\n",
    "OBS.: A programação foi feita com base na resolição do meu computador, e considerando que haverá um banner de anuncio na pagina de votação"
   ]
  },
  {
   "cell_type": "code",
   "execution_count": 2,
   "metadata": {},
   "outputs": [
    {
     "name": "stdout",
     "output_type": "stream",
     "text": [
      "Requirement already satisfied: pyautogui in c:\\users\\spr_b\\anaconda3\\lib\\site-packages (0.9.53)\n",
      "Requirement already satisfied: pyscreeze>=0.1.21 in c:\\users\\spr_b\\anaconda3\\lib\\site-packages (from pyautogui) (0.1.28)\n",
      "Requirement already satisfied: pygetwindow>=0.0.5 in c:\\users\\spr_b\\anaconda3\\lib\\site-packages (from pyautogui) (0.0.9)\n",
      "Requirement already satisfied: mouseinfo in c:\\users\\spr_b\\anaconda3\\lib\\site-packages (from pyautogui) (0.1.3)\n",
      "Requirement already satisfied: pymsgbox in c:\\users\\spr_b\\anaconda3\\lib\\site-packages (from pyautogui) (1.0.9)\n",
      "Requirement already satisfied: PyTweening>=1.0.1 in c:\\users\\spr_b\\anaconda3\\lib\\site-packages (from pyautogui) (1.0.4)\n",
      "Requirement already satisfied: pyrect in c:\\users\\spr_b\\anaconda3\\lib\\site-packages (from pygetwindow>=0.0.5->pyautogui) (0.1.4)\n",
      "Requirement already satisfied: pyperclip in c:\\users\\spr_b\\anaconda3\\lib\\site-packages (from mouseinfo->pyautogui) (1.8.2)\n",
      "Requirement already satisfied: pyperclip in c:\\users\\spr_b\\anaconda3\\lib\\site-packages (1.8.2)\n"
     ]
    }
   ],
   "source": [
    "#instalar e importar as bibliotecas necessárias\n",
    "\n",
    "!pip install pyautogui\n",
    "!pip install pyperclip\n",
    "\n",
    "import pyautogui\n",
    "import pyperclip\n",
    "import time"
   ]
  },
  {
   "cell_type": "code",
   "execution_count": 27,
   "metadata": {},
   "outputs": [],
   "source": [
    "#abrir navegador firefox\n",
    "pyautogui.press (\"win\")\n",
    "time.sleep (3)\n",
    "pyautogui.write (\"firefox\")\n",
    "time.sleep (3)\n",
    "pyautogui.press (\"enter\")\n",
    "time.sleep (7)\n",
    "\n",
    "#abrir link de votação\n",
    "pyperclip.copy (\"https://gshow.globo.com/realities/bbb/bbb22/votacao/vote-na-final-do-bbb-22-quem-voce-quer-que-venca-15b3ec29-4d06-4db3-8bd7-d4d4bd050057.ghtml\")\n",
    "pyautogui.hotkey (\"ctrl\", \"v\")\n",
    "pyautogui.press (\"enter\")\n",
    "time.sleep (7)\n",
    "\n",
    "#reduzir zoom da página para 50%\n",
    "pyautogui.hotkey (\"ctrl\", \"-\")\n",
    "pyautogui.hotkey (\"ctrl\", \"-\")\n",
    "pyautogui.hotkey (\"ctrl\", \"-\")\n",
    "pyautogui.hotkey (\"ctrl\", \"-\")\n",
    "\n",
    "#clicar no participante Paulo André\n",
    "pyautogui.hotkey (\"ctrl\", \"f\")\n",
    "pyautogui.write (\"paulo\")\n",
    "pyautogui.press (\"enter\")\n",
    "pyautogui.press (\"enter\")\n",
    "pyautogui.press (\"enter\") #durante alguns testes o nome dele só localizou na terceira vez\n",
    "pyautogui.click (x=615, y=453, clicks=1, button='left')\n",
    "time.sleep (5)\n",
    "\n",
    "#clicar no captcha\n",
    "pyautogui.click (x=615, y=527, clicks=1, button='left')\n",
    "time.sleep (10)\n",
    "\n",
    "#clicar em \"votar novamente\"\n",
    "pyautogui.click (x=615, y=266, clicks=1, button='left')\n",
    "time.sleep (5)\n",
    "\n",
    "##repetir o processo pela 2ª vez\n",
    "#clicar no participante Paulo André\n",
    "pyautogui.hotkey (\"ctrl\", \"f\")\n",
    "pyautogui.write (\"paulo\")\n",
    "pyautogui.press (\"enter\")\n",
    "pyautogui.press (\"enter\")\n",
    "pyautogui.press (\"enter\") #durante alguns testes o nome dele só localizou na terceira vez\n",
    "pyautogui.click (x=615, y=453, clicks=1, button='left')\n",
    "time.sleep (5)\n",
    "\n",
    "#clicar no captcha\n",
    "pyautogui.click (x=615, y=527, clicks=1, button='left')\n",
    "time.sleep (10)\n",
    "\n",
    "#clicar em \"votar novamente\"\n",
    "pyautogui.click (x=615, y=266, clicks=1, button='left')\n",
    "time.sleep (5)\n",
    "\n",
    "##repetir o processo pela 3ª vez\n",
    "#clicar no participante Paulo André\n",
    "pyautogui.hotkey (\"ctrl\", \"f\")\n",
    "pyautogui.write (\"paulo\")\n",
    "pyautogui.press (\"enter\")\n",
    "pyautogui.press (\"enter\")\n",
    "pyautogui.press (\"enter\") #durante alguns testes o nome dele só localizou na terceira vez\n",
    "pyautogui.click (x=615, y=453, clicks=1, button='left')\n",
    "time.sleep (5)\n",
    "\n",
    "#clicar no captcha\n",
    "pyautogui.click (x=615, y=527, clicks=1, button='left')\n",
    "time.sleep (10)\n",
    "\n",
    "#clicar em \"votar novamente\"\n",
    "pyautogui.click (x=615, y=266, clicks=1, button='left')\n",
    "time.sleep (5)\n",
    "\n",
    "##repetir o processo pela 4ª vez\n",
    "#clicar no participante Paulo André\n",
    "pyautogui.hotkey (\"ctrl\", \"f\")\n",
    "pyautogui.write (\"paulo\")\n",
    "pyautogui.press (\"enter\")\n",
    "pyautogui.press (\"enter\")\n",
    "pyautogui.press (\"enter\") #durante alguns testes o nome dele só localizou na terceira vez\n",
    "pyautogui.click (x=615, y=453, clicks=1, button='left')\n",
    "time.sleep (5)\n",
    "\n",
    "#clicar no captcha\n",
    "pyautogui.click (x=615, y=527, clicks=1, button='left')\n",
    "time.sleep (10)\n",
    "\n",
    "#clicar em \"votar novamente\"\n",
    "pyautogui.click (x=615, y=266, clicks=1, button='left')\n",
    "time.sleep (5)\n",
    "\n",
    "##repetir o processo pela 5ª vez\n",
    "#clicar no participante Paulo André\n",
    "pyautogui.hotkey (\"ctrl\", \"f\")\n",
    "pyautogui.write (\"paulo\")\n",
    "pyautogui.press (\"enter\")\n",
    "pyautogui.press (\"enter\")\n",
    "pyautogui.press (\"enter\") #durante alguns testes o nome dele só localizou na terceira vez\n",
    "pyautogui.click (x=615, y=453, clicks=1, button='left')\n",
    "time.sleep (5)\n",
    "\n",
    "#clicar no captcha\n",
    "pyautogui.click (x=615, y=527, clicks=1, button='left')\n",
    "time.sleep (10)\n",
    "\n",
    "#clicar em \"votar novamente\"\n",
    "pyautogui.click (x=615, y=266, clicks=1, button='left')\n",
    "time.sleep (5)\n",
    "\n",
    "#restaurar zoom da página para 100% e fechar navegador\n",
    "pyautogui.hotkey (\"ctrl\", \"+\")\n",
    "pyautogui.hotkey (\"ctrl\", \"+\")\n",
    "pyautogui.hotkey (\"ctrl\", \"+\")\n",
    "pyautogui.hotkey (\"ctrl\", \"+\")\n",
    "pyautogui.hotkey (\"alt\", \"f4\")"
   ]
  },
  {
   "cell_type": "code",
   "execution_count": null,
   "metadata": {},
   "outputs": [],
   "source": []
  },
  {
   "cell_type": "markdown",
   "metadata": {},
   "source": [
    "#### Use esse código para descobrir qual a posição de um item que queira clicar\n",
    "\n",
    "- Lembre-se: a posição na sua tela é diferente da posição na minha tela"
   ]
  },
  {
   "cell_type": "code",
   "execution_count": 26,
   "metadata": {},
   "outputs": [
    {
     "data": {
      "text/plain": [
       "Point(x=597, y=266)"
      ]
     },
     "execution_count": 26,
     "metadata": {},
     "output_type": "execute_result"
    }
   ],
   "source": [
    "time.sleep (5)\n",
    "pyautogui.position()"
   ]
  },
  {
   "cell_type": "code",
   "execution_count": null,
   "metadata": {},
   "outputs": [],
   "source": []
  }
 ],
 "metadata": {
  "kernelspec": {
   "display_name": "Python 3 (ipykernel)",
   "language": "python",
   "name": "python3"
  },
  "language_info": {
   "codemirror_mode": {
    "name": "ipython",
    "version": 3
   },
   "file_extension": ".py",
   "mimetype": "text/x-python",
   "name": "python",
   "nbconvert_exporter": "python",
   "pygments_lexer": "ipython3",
   "version": "3.9.7"
  }
 },
 "nbformat": 4,
 "nbformat_minor": 4
}
